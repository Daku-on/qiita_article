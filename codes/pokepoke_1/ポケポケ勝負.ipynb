{
  "nbformat": 4,
  "nbformat_minor": 0,
  "metadata": {
    "colab": {
      "provenance": [],
      "mount_file_id": "15thxrdq0-2-f7pQ8Nbb3r9fMxxYIXjF1",
      "authorship_tag": "ABX9TyManSvyGomKXJdakux4yVxB",
      "include_colab_link": true
    },
    "kernelspec": {
      "name": "python3",
      "display_name": "Python 3"
    },
    "language_info": {
      "name": "python"
    }
  },
  "cells": [
    {
      "cell_type": "markdown",
      "metadata": {
        "id": "view-in-github",
        "colab_type": "text"
      },
      "source": [
        "<a href=\"https://colab.research.google.com/github/Daku-on/qiita_article/blob/main/%E3%83%9D%E3%82%B1%E3%83%9D%E3%82%B1%E5%8B%9D%E8%B2%A0.ipynb\" target=\"_parent\"><img src=\"https://colab.research.google.com/assets/colab-badge.svg\" alt=\"Open In Colab\"/></a>"
      ]
    },
    {
      "cell_type": "code",
      "source": [
        "import random\n",
        "import numpy as np\n",
        "import matplotlib.pyplot as plt\n",
        "from matplotlib.animation import FuncAnimation, PillowWriter\n",
        "from matplotlib.ticker import MaxNLocator\n",
        "from collections import Counter"
      ],
      "metadata": {
        "id": "inJwXw0epdY2"
      },
      "execution_count": 54,
      "outputs": []
    },
    {
      "cell_type": "code",
      "source": [
        "# Constants\n",
        "NUM_PLAYERS = 50000\n",
        "WIN_CONDITION = 5\n",
        "BETRAYAL_RATE = 0.1\n",
        "PARTICIPATION_RATE = 0.5"
      ],
      "metadata": {
        "id": "ahOfBoOfp2-m"
      },
      "execution_count": 58,
      "outputs": []
    },
    {
      "cell_type": "code",
      "source": [
        "def simulate_game(\n",
        "    num_players: int = NUM_PLAYERS,\n",
        "    win_condition: int = WIN_CONDITION,\n",
        "    betrayal_rate: float = BETRAYAL_RATE,\n",
        "    participation_rate: float = PARTICIPATION_RATE\n",
        "):\n",
        "    # Initialize players and stats\n",
        "    players = np.zeros((num_players, 2), dtype=int)  # [consecutive_wins, cleared_flag]\n",
        "    player_battles = np.zeros(num_players, dtype=int)  # Count battles per player\n",
        "    cleared_count = []\n",
        "    history = []\n",
        "    rounds = 0\n",
        "\n",
        "    # Function to simulate a single round\n",
        "    def simulate_round(players: np.ndarray, player_battles: np.ndarray) -> None:\n",
        "        indices = np.arange(len(players))  # Array of player indices\n",
        "        np.random.shuffle(indices)  # Shuffle players for random pairing\n",
        "\n",
        "        for i in range(0, len(indices) - 1, 2):  # Pair players\n",
        "            player_i, player_j = indices[i], indices[i + 1]\n",
        "\n",
        "            # Skip if both players are already cleared\n",
        "            if players[player_i, 1] and players[player_j, 1]:  # Cleared flag\n",
        "                continue\n",
        "\n",
        "            # Handle cleared players with participation chance\n",
        "            if players[player_i, 1]:  # Cleared\n",
        "                if random.random() < participation_rate:\n",
        "                    players[player_j, 0] += 1  # Increment consecutive wins\n",
        "                    if players[player_j, 0] >= win_condition:\n",
        "                        players[player_j, 1] = 1  # Mark as cleared\n",
        "                continue\n",
        "            if players[player_j, 1]:  # Cleared\n",
        "                if random.random() < participation_rate:\n",
        "                    players[player_i, 0] += 1  # Increment consecutive wins\n",
        "                    if players[player_i, 0] >= win_condition:\n",
        "                        players[player_i, 1] = 1  # Mark as cleared\n",
        "                continue\n",
        "\n",
        "            # Battle logic\n",
        "            if (\n",
        "                players[player_i, 0] == players[player_j, 0]  # Same wins\n",
        "                or (players[player_i, 0] == 1 and players[player_j, 0] == 0)  # 1 win vs 0 wins\n",
        "                or (players[player_i, 0] == 0 and players[player_j, 0] == 1)  # 0 wins vs 1 win\n",
        "                or random.random() < betrayal_rate  # Betrayal\n",
        "            ):\n",
        "                # Fair battle or betrayal\n",
        "                winner = random.choice([player_i, player_j])\n",
        "                loser = player_i if winner == player_j else player_j\n",
        "                players[winner, 0] += 1  # Increment consecutive wins\n",
        "                players[loser, 0] = 0  # Reset consecutive wins\n",
        "            else:\n",
        "                # Unequal wins: stronger wins\n",
        "                if players[player_i, 0] > players[player_j, 0]:\n",
        "                    players[player_i, 0] += 1\n",
        "                    players[player_j, 0] = 0\n",
        "                else:\n",
        "                    players[player_j, 0] += 1\n",
        "                    players[player_i, 0] = 0\n",
        "\n",
        "            # Update cleared status\n",
        "            if players[player_i, 0] >= win_condition:\n",
        "                players[player_i, 1] = 1\n",
        "            if players[player_j, 0] >= win_condition:\n",
        "                players[player_j, 1] = 1\n",
        "\n",
        "            # Count the battle\n",
        "            player_battles[player_i] += 1\n",
        "            player_battles[player_j] += 1\n",
        "\n",
        "    # Simulation loop\n",
        "    while np.sum(players[:, 1]) < num_players:  # While not all players are cleared\n",
        "        simulate_round(players, player_battles)\n",
        "        cleared_count.append(np.sum(players[:, 1]))  # Track cleared players\n",
        "        history.append(players[:, 0].copy())  # Track consecutive wins\n",
        "        rounds += 1\n",
        "\n",
        "    return {\n",
        "        \"rounds\": rounds,\n",
        "        \"cleared_count\": cleared_count,\n",
        "        \"player_battles\": player_battles,\n",
        "        \"history\": history,\n",
        "    }\n",
        "\n",
        "\n",
        "# Visualization functions\n",
        "def visualize_cleared_count(cleared_count):\n",
        "    plt.figure(figsize=(8, 5))\n",
        "    plt.plot(range(1, len(cleared_count) + 1), cleared_count, marker='o', label=\"Cleared Players\")\n",
        "    plt.xlabel(\"Rounds\")\n",
        "    plt.ylabel(\"Cleared Players\")\n",
        "    plt.title(\"Progression of Cleared Players\")\n",
        "    plt.gca().xaxis.set_major_locator(MaxNLocator(integer=True))  # Force x-axis to show integers\n",
        "    plt.legend()\n",
        "    plt.grid()\n",
        "    plt.show()\n",
        "\n",
        "\n",
        "def visualize_battle_distribution(player_battles):\n",
        "    plt.figure(figsize=(8, 5))\n",
        "    plt.hist(player_battles, bins=range(0, max(player_battles) + 2), align='left', rwidth=0.8)\n",
        "    plt.xlabel(\"Number of Battles\")\n",
        "    plt.ylabel(\"Number of Players\")\n",
        "    plt.title(\"Distribution of Battles per Player\")\n",
        "    plt.xticks(range(0, max(player_battles) + 2))  # Ensure integer ticks\n",
        "    plt.grid(axis='y')\n",
        "    plt.show()"
      ],
      "metadata": {
        "id": "4wv7y3Qsp0d5"
      },
      "execution_count": null,
      "outputs": []
    },
    {
      "cell_type": "code",
      "source": [
        "# Run the simulation\n",
        "results = simulate_game()\n",
        "\n",
        "# Visualize the results\n",
        "visualize_cleared_count(results[\"cleared_count\"])\n",
        "visualize_battle_distribution(results[\"player_battles\"])\n",
        "\n",
        "# Print stats\n",
        "print(f\"Total rounds: {results['rounds']}\")\n",
        "average_battles_per_player = np.sum(results[\"player_battles\"]) / NUM_PLAYERS\n",
        "print(f\"Average battles per player: {average_battles_per_player:.2f}\")"
      ],
      "metadata": {
        "id": "m_Ic8tVZr6Bo"
      },
      "execution_count": null,
      "outputs": []
    }
  ]
}